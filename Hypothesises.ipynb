{
 "cells": [
  {
   "attachments": {},
   "cell_type": "markdown",
   "metadata": {},
   "source": [
    "### Hypothesises\n",
    "\n",
    "We do a regression on the AND space of the following.\n",
    "\n",
    "#### Hypothesis 1: Collective Action\n",
    "- relative\n",
    "- ppron\n",
    "- drive\n",
    "\n",
    "#### Hypothesis 2: Cognatively Intensive\n",
    "- cogproc\n",
    "- totallen\n",
    "\n",
    "#### Hypothesis 3: Emotionally Intesive\n",
    "- persconc\n",
    "\n",
    "#### Hypothesis 4: \n",
    "\n",
    "#### Hypothesis 5: Broad search of AND space."
   ]
  }
 ],
 "metadata": {
  "kernelspec": {
   "display_name": "LIWC",
   "language": "python",
   "name": "python3"
  },
  "language_info": {
   "name": "python",
   "version": "3.10.5 | packaged by conda-forge | (main, Jun 14 2022, 07:04:59) [GCC 10.3.0]"
  },
  "orig_nbformat": 4,
  "vscode": {
   "interpreter": {
    "hash": "1cdae96cb1469a06f9f92df5e72ccaa68997a4a47f3a17820015b8732107d952"
   }
  }
 },
 "nbformat": 4,
 "nbformat_minor": 2
}
